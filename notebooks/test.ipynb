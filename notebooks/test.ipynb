{
 "cells": [
  {
   "cell_type": "markdown",
   "metadata": {},
   "source": [
    "# NLP Clustering Prototype\n",
    "\n",
    "### Step 1: Test Installation:"
   ]
  },
  {
   "cell_type": "code",
   "execution_count": null,
   "metadata": {},
   "outputs": [
    {
     "name": "stdout",
     "output_type": "stream",
     "text": [
      "Hello World from the Conda environment!\n",
      "Pandas version: 2.2.3\n",
      "NumPy version: 2.2.2\n",
      " English SpaCY model already available\n",
      "spaCy model loaded successfully!\n",
      "SentenceTransformer output: [-0.03817714  0.03291109 -0.00545938  0.01436994 -0.04029103]\n"
     ]
    }
   ],
   "source": [
    "import pandas as pd\n",
    "import numpy as np\n",
    "import matplotlib.pyplot as plt\n",
    "import spacy\n",
    "from spacy.cli import download\n",
    "from sentence_transformers import SentenceTransformer\n",
    "\n",
    "print(\"Hello World from the Conda environment!\")\n",
    "print(\"Pandas version:\", pd.__version__)\n",
    "print(\"NumPy version:\", np.__version__)\n",
    "\n",
    "# Load spaCy model to verify\n",
    "if spacy.util.is_package(\"en_core_web_sm\"):\n",
    "    print(\"English SpaCY model already available\")\n",
    "    nlp = spacy.load(\"en_core_web_sm\")\n",
    "    print(\"spaCy model loaded successfully!\")\n",
    "else:\n",
    "    print(\"downloading en_core_web_sm\")\n",
    "    download(\"en_core_web_sm\")\n",
    "    nlp = spacy.load(\"en_core_web_sm\")\n",
    "    print(\"spaCy model loaded successfully!\")\n",
    "\n",
    "# Test the sentence transformer model\n",
    "embedder = SentenceTransformer('all-MiniLM-L6-v2')\n",
    "test_embedding = embedder.encode(\"Hello, world!\")\n",
    "print(\"SentenceTransformer output:\", test_embedding[:5])  # Print first 5 values\n"
   ]
  },
  {
   "cell_type": "markdown",
   "metadata": {},
   "source": [
    "### Step 2: Perform Initial Cleaning of Raw Data:"
   ]
  },
  {
   "cell_type": "code",
   "execution_count": null,
   "metadata": {},
   "outputs": [],
   "source": [
    "# run the cleaning script:\n",
    "%run ../scripts/preprocess_cleaning.py\n",
    "\n",
    "# metrics on the output file:\n",
    "df = pd.read_csv('../data/processed/cleaned_data_example.csv')\n",
    "\n",
    "# Calculate total cases processed\n",
    "total_cases = len(df)\n",
    "\n",
    "# Count cases with one or more missing free-text fields\n",
    "cases_with_missing = df[['text 1 missing', 'text 2 missing', 'text 3 missing']] \\\n",
    "    .apply(lambda row: 'Y' in row.values, axis=1).sum()\n",
    "\n",
    "print(f\"Total Cases Processed: {total_cases}\")\n",
    "print(f\"Cases with one or more missing text fields: {cases_with_missing}\")"
   ]
  },
  {
   "cell_type": "markdown",
   "metadata": {},
   "source": [
    "### Step 3: Perform Language Detection on Cleaned Data:"
   ]
  },
  {
   "cell_type": "code",
   "execution_count": null,
   "metadata": {},
   "outputs": [],
   "source": [
    "# run the langdetect script:\n",
    "%run ../scripts/preprocess_langdetect.py\n",
    "\n",
    "# metrics on the output file:\n",
    "df = pd.read_csv('../data/processed/langdetect_data_example.csv')\n",
    "\n",
    "# Calculate detected languages\n",
    "language_counts = df['language'].value_counts()\n",
    "print(\"Detected Languages and Case Counts:\")\n",
    "for lang, count in language_counts.items():\n",
    "    print(f\"{lang}: {count}\")"
   ]
  },
  {
   "cell_type": "markdown",
   "metadata": {},
   "source": [
    "### Step 4: Download Helsinki-NLP models for the detected languages"
   ]
  },
  {
   "cell_type": "code",
   "execution_count": null,
   "metadata": {},
   "outputs": [],
   "source": [
    "# run the Helsinki-NLP script:\n",
    "%run ../scripts/preprocess_helsinki_nlp.py\n",
    "print(\"ran the helsinki script\")"
   ]
  },
  {
   "cell_type": "markdown",
   "metadata": {},
   "source": [
    "### Step 5: Now that all text is in English, Tokenize with SpaCy"
   ]
  },
  {
   "cell_type": "code",
   "execution_count": null,
   "metadata": {},
   "outputs": [],
   "source": [
    "# run the SpaCy tokenizing script:\n",
    "%run ../scripts/nlp_tokenizing.py"
   ]
  }
 ],
 "metadata": {
  "kernelspec": {
   "display_name": "customer-case-ml-project",
   "language": "python",
   "name": "python3"
  },
  "language_info": {
   "codemirror_mode": {
    "name": "ipython",
    "version": 3
   },
   "file_extension": ".py",
   "mimetype": "text/x-python",
   "name": "python",
   "nbconvert_exporter": "python",
   "pygments_lexer": "ipython3",
   "version": "3.12.8"
  }
 },
 "nbformat": 4,
 "nbformat_minor": 2
}
