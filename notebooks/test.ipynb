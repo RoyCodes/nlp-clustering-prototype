{
 "cells": [
  {
   "cell_type": "markdown",
   "metadata": {},
   "source": [
    "# NLP Clustering Prototype\n",
    "\n",
    "## Step 1: Test Installation:"
   ]
  },
  {
   "cell_type": "code",
   "execution_count": 1,
   "metadata": {},
   "outputs": [
    {
     "name": "stdout",
     "output_type": "stream",
     "text": [
      "Hello World from the Conda environment!\n",
      "Pandas version: 2.2.3\n",
      "NumPy version: 2.0.2\n",
      "spaCy model loaded successfully!\n",
      "SentenceTransformer output: [-0.03817711  0.03291108 -0.0054594   0.01436987 -0.04029102]\n"
     ]
    }
   ],
   "source": [
    "import pandas as pd\n",
    "import numpy as np\n",
    "import matplotlib.pyplot as plt\n",
    "import spacy\n",
    "from sentence_transformers import SentenceTransformer\n",
    "\n",
    "print(\"Hello World from the Conda environment!\")\n",
    "print(\"Pandas version:\", pd.__version__)\n",
    "print(\"NumPy version:\", np.__version__)\n",
    "\n",
    "# Load spaCy model to verify\n",
    "nlp = spacy.load(\"en_core_web_sm\")\n",
    "print(\"spaCy model loaded successfully!\")\n",
    "\n",
    "# Test the sentence transformer model\n",
    "embedder = SentenceTransformer('all-MiniLM-L6-v2')\n",
    "test_embedding = embedder.encode(\"Hello, world!\")\n",
    "print(\"SentenceTransformer output:\", test_embedding[:5])  # Print first 5 values\n"
   ]
  },
  {
   "cell_type": "markdown",
   "metadata": {},
   "source": [
    "## Step 2: Perform Initial Cleaning of Raw Data:"
   ]
  },
  {
   "cell_type": "code",
   "execution_count": 2,
   "metadata": {},
   "outputs": [
    {
     "name": "stdout",
     "output_type": "stream",
     "text": [
      "Raw data has been cleaned\n",
      "Total Cases Processed: 30\n",
      "Cases with one or more missing text fields: 16\n"
     ]
    }
   ],
   "source": [
    "# run the cleaning script:\n",
    "%run ../scripts/preprocess_cleaning.py\n",
    "\n",
    "# metrics on the output file:\n",
    "df = pd.read_csv('../data/processed/cleaned_data_example.csv')\n",
    "\n",
    "# Calculate total cases processed\n",
    "total_cases = len(df)\n",
    "\n",
    "# Count cases with one or more missing free-text fields\n",
    "cases_with_missing = df[['text 1 missing', 'text 2 missing', 'text 3 missing']] \\\n",
    "    .apply(lambda row: 'Y' in row.values, axis=1).sum()\n",
    "\n",
    "print(f\"Total Cases Processed: {total_cases}\")\n",
    "print(f\"Cases with one or more missing text fields: {cases_with_missing}\")"
   ]
  },
  {
   "cell_type": "markdown",
   "metadata": {},
   "source": [
    "## Step 3: Perform Language Detection on Cleaned Data:"
   ]
  },
  {
   "cell_type": "code",
   "execution_count": 4,
   "metadata": {},
   "outputs": [
    {
     "name": "stdout",
     "output_type": "stream",
     "text": [
      "Language detection complete.\n",
      "Detected Languages and Case Counts:\n",
      "en: 14\n",
      "ko: 14\n",
      "unknown: 2\n"
     ]
    }
   ],
   "source": [
    "# run the langdetect script:\n",
    "%run ../scripts/preprocess_langdetect.py\n",
    "\n",
    "# metrics on the output file:\n",
    "df = pd.read_csv('../data/processed/langdetect_data_example.csv')\n",
    "\n",
    "# Calculate detected languages\n",
    "language_counts = df['language'].value_counts()\n",
    "print(\"Detected Languages and Case Counts:\")\n",
    "for lang, count in language_counts.items():\n",
    "    print(f\"{lang}: {count}\")\n"
   ]
  },
  {
   "cell_type": "code",
   "execution_count": 5,
   "metadata": {},
   "outputs": [
    {
     "name": "stdout",
     "output_type": "stream",
     "text": [
      "read the output from the previous step\n",
      "Detected non-English languages: ['ko']\n"
     ]
    },
    {
     "data": {
      "application/vnd.jupyter.widget-view+json": {
       "model_id": "94bff5eacd674041a58380c84f6d839d",
       "version_major": 2,
       "version_minor": 0
      },
      "text/plain": [
       "config.json:   0%|          | 0.00/1.39k [00:00<?, ?B/s]"
      ]
     },
     "metadata": {},
     "output_type": "display_data"
    },
    {
     "data": {
      "application/vnd.jupyter.widget-view+json": {
       "model_id": "78ad2cc5081c4fd1b9187b385f3f246b",
       "version_major": 2,
       "version_minor": 0
      },
      "text/plain": [
       "pytorch_model.bin:   0%|          | 0.00/312M [00:00<?, ?B/s]"
      ]
     },
     "metadata": {},
     "output_type": "display_data"
    },
    {
     "data": {
      "application/vnd.jupyter.widget-view+json": {
       "model_id": "8d2ec62b7a544e96beb511d5e33f5c35",
       "version_major": 2,
       "version_minor": 0
      },
      "text/plain": [
       "generation_config.json:   0%|          | 0.00/293 [00:00<?, ?B/s]"
      ]
     },
     "metadata": {},
     "output_type": "display_data"
    },
    {
     "data": {
      "application/vnd.jupyter.widget-view+json": {
       "model_id": "f0968796a1ef411796340dcd08e0ec02",
       "version_major": 2,
       "version_minor": 0
      },
      "text/plain": [
       "tokenizer_config.json:   0%|          | 0.00/44.0 [00:00<?, ?B/s]"
      ]
     },
     "metadata": {},
     "output_type": "display_data"
    },
    {
     "name": "stdout",
     "output_type": "stream",
     "text": [
      "Failed to load translation model for 'ko' using 'Helsinki-NLP/opus-mt-ko-en': This tokenizer cannot be instantiated. Please make sure you have `sentencepiece` installed in order to use this tokenizer.\n",
      "No official model found for language 'ko'. Consider looking for an unofficial package.\n",
      "\n",
      "Translation pipelines available for languages:\n"
     ]
    },
    {
     "data": {
      "application/vnd.jupyter.widget-view+json": {
       "model_id": "f5184d37fb954f71b6f9036cfe97819a",
       "version_major": 2,
       "version_minor": 0
      },
      "text/plain": [
       "model.safetensors:   0%|          | 0.00/312M [00:00<?, ?B/s]"
      ]
     },
     "metadata": {},
     "output_type": "display_data"
    }
   ],
   "source": [
    "# run the Helsinki NLP script:\n",
    "%run ../scripts/preprocess_helsinki_nlp.py"
   ]
  },
  {
   "cell_type": "code",
   "execution_count": null,
   "metadata": {},
   "outputs": [],
   "source": []
  }
 ],
 "metadata": {
  "kernelspec": {
   "display_name": "nlp-clustering-prototype",
   "language": "python",
   "name": "python3"
  },
  "language_info": {
   "codemirror_mode": {
    "name": "ipython",
    "version": 3
   },
   "file_extension": ".py",
   "mimetype": "text/x-python",
   "name": "python",
   "nbconvert_exporter": "python",
   "pygments_lexer": "ipython3",
   "version": "3.12.9"
  }
 },
 "nbformat": 4,
 "nbformat_minor": 2
}
