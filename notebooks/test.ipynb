{
 "cells": [
  {
   "cell_type": "markdown",
   "metadata": {},
   "source": [
    "# NLP Clustering Prototype\n",
    "\n",
    "## Step 1: Test Installation:"
   ]
  },
  {
   "cell_type": "code",
   "execution_count": null,
   "metadata": {},
   "outputs": [],
   "source": [
    "import pandas as pd\n",
    "import numpy as np\n",
    "import matplotlib.pyplot as plt\n",
    "import spacy\n",
    "from sentence_transformers import SentenceTransformer\n",
    "\n",
    "print(\"Hello World from the Conda environment!\")\n",
    "print(\"Pandas version:\", pd.__version__)\n",
    "print(\"NumPy version:\", np.__version__)\n",
    "\n",
    "# Load spaCy model to verify\n",
    "nlp = spacy.load(\"en_core_web_sm\")\n",
    "print(\"spaCy model loaded successfully!\")\n",
    "\n",
    "# Test the sentence transformer model\n",
    "embedder = SentenceTransformer('all-MiniLM-L6-v2')\n",
    "test_embedding = embedder.encode(\"Hello, world!\")\n",
    "print(\"SentenceTransformer output:\", test_embedding[:5])  # Print first 5 values\n"
   ]
  },
  {
   "cell_type": "markdown",
   "metadata": {},
   "source": [
    "## Step 2: Perform Initial Cleaning of Raw Data:"
   ]
  },
  {
   "cell_type": "code",
   "execution_count": null,
   "metadata": {},
   "outputs": [
    {
     "name": "stdout",
     "output_type": "stream",
     "text": [
      "Raw data has been cleaned\n",
      "Total Cases Processed: 30\n",
      "Cases with 1 or more missing text fields: 16\n"
     ]
    }
   ],
   "source": [
    "# run the cleaning script:\n",
    "%run ../scripts/preprocess_cleaning.py\n",
    "\n",
    "# quick metrics on the output file:\n",
    "df = pd.read_csv('../data/processed/cleaned_data_example.csv')\n",
    "\n",
    "# Calculate total cases processed\n",
    "total_cases = len(df)\n",
    "\n",
    "# Count cases with one or more missing free-text fields\n",
    "cases_with_missing = df[['text 1 missing', 'text 2 missing', 'text 3 missing']] \\\n",
    "    .apply(lambda row: 'Y' in row.values, axis=1).sum()\n",
    "\n",
    "print(f\"Total Cases Processed: {total_cases}\")\n",
    "print(f\"Cases with one or more missing text fields: {cases_with_missing}\")"
   ]
  },
  {
   "cell_type": "code",
   "execution_count": null,
   "metadata": {},
   "outputs": [],
   "source": []
  }
 ],
 "metadata": {
  "kernelspec": {
   "display_name": "nlp-clustering-prototype",
   "language": "python",
   "name": "python3"
  },
  "language_info": {
   "codemirror_mode": {
    "name": "ipython",
    "version": 3
   },
   "file_extension": ".py",
   "mimetype": "text/x-python",
   "name": "python",
   "nbconvert_exporter": "python",
   "pygments_lexer": "ipython3",
   "version": "3.12.9"
  }
 },
 "nbformat": 4,
 "nbformat_minor": 2
}
