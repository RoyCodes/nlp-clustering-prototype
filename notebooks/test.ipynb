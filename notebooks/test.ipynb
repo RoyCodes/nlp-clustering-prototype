{
 "cells": [
  {
   "cell_type": "code",
   "execution_count": 1,
   "metadata": {},
   "outputs": [
    {
     "name": "stdout",
     "output_type": "stream",
     "text": [
      "Hello World from the Conda environment!\n",
      "Pandas version: 2.2.3\n",
      "NumPy version: 2.2.2\n",
      "spaCy model loaded successfully!\n",
      "SentenceTransformer output: [-0.03817714  0.03291109 -0.00545938  0.01436994 -0.04029103]\n"
     ]
    }
   ],
   "source": [
    "import pandas as pd\n",
    "import numpy as np\n",
    "import matplotlib.pyplot as plt\n",
    "import spacy\n",
    "from sentence_transformers import SentenceTransformer\n",
    "\n",
    "print(\"Hello World from the Conda environment!\")\n",
    "print(\"Pandas version:\", pd.__version__)\n",
    "print(\"NumPy version:\", np.__version__)\n",
    "\n",
    "# Load spaCy model to verify\n",
    "nlp = spacy.load(\"en_core_web_sm\")\n",
    "print(\"spaCy model loaded successfully!\")\n",
    "\n",
    "# Test the sentence transformer model\n",
    "embedder = SentenceTransformer('all-MiniLM-L6-v2')\n",
    "test_embedding = embedder.encode(\"Hello, world!\")\n",
    "print(\"SentenceTransformer output:\", test_embedding[:5])  # Print first 5 values\n"
   ]
  }
 ],
 "metadata": {
  "kernelspec": {
   "display_name": "customer-case-ml-project",
   "language": "python",
   "name": "python3"
  },
  "language_info": {
   "codemirror_mode": {
    "name": "ipython",
    "version": 3
   },
   "file_extension": ".py",
   "mimetype": "text/x-python",
   "name": "python",
   "nbconvert_exporter": "python",
   "pygments_lexer": "ipython3",
   "version": "3.12.8"
  }
 },
 "nbformat": 4,
 "nbformat_minor": 2
}
